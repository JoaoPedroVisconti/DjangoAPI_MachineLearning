{
 "cells": [
  {
   "cell_type": "code",
   "execution_count": 4,
   "metadata": {},
   "outputs": [],
   "source": [
    "from keras.models import load_model\n",
    "\n",
    "import pandas as pd\n",
    "import numpy as np\n",
    "\n",
    "import joblib"
   ]
  },
  {
   "cell_type": "code",
   "execution_count": 12,
   "metadata": {},
   "outputs": [],
   "source": [
    "# Load model and scaler\n",
    "model = load_model('F:\\\\Visconti\\\\DevProgram\\\\Tutorial\\\\Django\\\\MachineLearning\\\\DjangoAPI_MachineLearning\\\\machine_learning\\\\model\\\\loan_model')\n",
    "scaler, dummies_frame = joblib.load('F:\\\\Visconti\\\\DevProgram\\\\Tutorial\\\\Django\\\\MachineLearning\\\\DjangoAPI_MachineLearning\\\\machine_learning\\\\model\\\\scaler.jbl')"
   ]
  },
  {
   "cell_type": "code",
   "execution_count": 57,
   "metadata": {},
   "outputs": [],
   "source": [
    "data = {\n",
    "  \"Gender\": ['Male'],\n",
    "  \"Married\": ['Yes'],\n",
    "  \"Dependents\": [0],\n",
    "  \"Education\": ['Graduate'],\n",
    "  \"Self_Employed\": ['No'],\n",
    "  \"ApplicantIncome\": [3500],\n",
    "  \"CoapplicantIncome\": [1667],\n",
    "  \"LoanAmount\": [11400],\n",
    "  \"Loan_Amount_Term\": [360],\n",
    "  \"Credit_History\": [0],\n",
    "  \"Property_Area\": ['Semiurban'],\n",
    "  }\n",
    "\n",
    "df = pd.DataFrame(data)\n",
    "df = pd.get_dummies(df)\n",
    "df = df.reindex(columns = dummies_frame, fill_value=0)\n",
    "\n",
    "unit = scaler.transform(df)\n"
   ]
  },
  {
   "cell_type": "code",
   "execution_count": 58,
   "metadata": {},
   "outputs": [
    {
     "name": "stdout",
     "output_type": "stream",
     "text": [
      "[[False]]\n"
     ]
    }
   ],
   "source": [
    "pred = model.predict(unit)\n",
    "\n",
    "print(pred > 0.55)"
   ]
  },
  {
   "cell_type": "code",
   "execution_count": null,
   "metadata": {},
   "outputs": [],
   "source": []
  }
 ],
 "metadata": {
  "kernelspec": {
   "display_name": "DNN_Model",
   "language": "python",
   "name": "dnn_model"
  },
  "language_info": {
   "codemirror_mode": {
    "name": "ipython",
    "version": 3
   },
   "file_extension": ".py",
   "mimetype": "text/x-python",
   "name": "python",
   "nbconvert_exporter": "python",
   "pygments_lexer": "ipython3",
   "version": "3.10.2"
  },
  "orig_nbformat": 4
 },
 "nbformat": 4,
 "nbformat_minor": 2
}
